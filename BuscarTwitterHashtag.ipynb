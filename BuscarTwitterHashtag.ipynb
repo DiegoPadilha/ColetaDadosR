{
 "cells": [
  {
   "cell_type": "code",
   "execution_count": 1,
   "metadata": {},
   "outputs": [
    {
     "name": "stderr",
     "output_type": "stream",
     "text": [
      "Warning message:\n",
      "\"package 'rtweet' was built under R version 3.6.3\""
     ]
    }
   ],
   "source": [
    "library(rtweet)\n",
    "library(maps)\n",
    "\n",
    "#Define DIR de trabalho\n",
    "setwd(\"c:\\\\Bootcamp\\\\twitterData\")"
   ]
  },
  {
   "cell_type": "code",
   "execution_count": 2,
   "metadata": {},
   "outputs": [],
   "source": [
    "#Autenticação\n",
    "\n",
    "token <- create_token(app = \"Primeiro Exemplo IGTI\", consumer_key = \"\",\n",
    "                     consumer_secret = \"\",\n",
    "                     access_token = \"\",\n",
    "                     access_secret = \"\")"
   ]
  },
  {
   "cell_type": "code",
   "execution_count": 3,
   "metadata": {},
   "outputs": [],
   "source": [
    "#Parametros de busca\n",
    "search.string <- c(\"#ficaemcasa OR #coronavirus OR #covid OR #covid-19 OR #covid19\")\n",
    "type = \"mixed\""
   ]
  },
  {
   "cell_type": "code",
   "execution_count": 5,
   "metadata": {},
   "outputs": [
    {
     "name": "stderr",
     "output_type": "stream",
     "text": [
      "Registered S3 method overwritten by 'openssl':\n",
      "  method      from\n",
      "  print.bytes Rcpp\n"
     ]
    }
   ],
   "source": [
    "#Buscando\n",
    "tweets <- search_tweets(search.string, n=18000, lang=\"pt\", type=type, include_rts=TRUE, retryonratlimit=TRUE)"
   ]
  },
  {
   "cell_type": "code",
   "execution_count": 6,
   "metadata": {},
   "outputs": [],
   "source": [
    "write_as_csv(tweets, \"TweetsRawData.csv\") #,fileEnconding = 'latin1//TRANSLIT'"
   ]
  },
  {
   "cell_type": "code",
   "execution_count": null,
   "metadata": {},
   "outputs": [],
   "source": [
    "write.table(tweets$text,\"TweetsRawData.txt\") #,fileEnconding = 'latin1//TRANSLIT'"
   ]
  },
  {
   "cell_type": "code",
   "execution_count": 7,
   "metadata": {},
   "outputs": [
    {
     "ename": "ERROR",
     "evalue": "Error in points(lng, lat, pch = 20, cex = 0.75, col = rgb(0, 0.3, 0.7, : objeto 'lng' não encontrado\n",
     "output_type": "error",
     "traceback": [
      "Error in points(lng, lat, pch = 20, cex = 0.75, col = rgb(0, 0.3, 0.7, : objeto 'lng' não encontrado\nTraceback:\n",
      "1. with(tweets, points(lng, lat, pch = 20, cex = 0.75, col = rgb(0, \n .     0.3, 0.7, 0.75)))",
      "2. with.default(tweets, points(lng, lat, pch = 20, cex = 0.75, col = rgb(0, \n .     0.3, 0.7, 0.75)))",
      "3. eval(substitute(expr), data, enclos = parent.frame())",
      "4. eval(substitute(expr), data, enclos = parent.frame())",
      "5. points(lng, lat, pch = 20, cex = 0.75, col = rgb(0, 0.3, 0.7, \n .     0.75))"
     ]
    },
    {
     "data": {
      "image/png": "[encoded data removed]",
      "text/plain": [
       "plot without title"
      ]
     },
     "metadata": {},
     "output_type": "display_data"
    }
   ],
   "source": [
    "## plota o mapa do Brasil\n",
    "par(mar=c(0,0,0,0))\n",
    "map(\"world\", \"brazil\",lwd = 0.3,fill=T, col=\"grey95\")\n",
    "map(,,add=T)\n",
    "map.axes()\n",
    "map.scale(ratio=T, cex=0.3)\n",
    "abline(h=0, lty = 2)\n",
    "map.cities(country = \"Brazil\",minpop = 2000000,pch=15, cex=0.9)\n",
    "\n",
    "##Adiciona os tweets ao mapa\n",
    "with(tweets, points(lng, lat, pch = 20, cex = .75, col = rgb(0, .3, .7, .75)))\n"
   ]
  },
  {
   "cell_type": "code",
   "execution_count": null,
   "metadata": {},
   "outputs": [],
   "source": []
  }
 ],
 "metadata": {
  "kernelspec": {
   "display_name": "R",
   "language": "R",
   "name": "ir"
  },
  "language_info": {
   "codemirror_mode": "r",
   "file_extension": ".r",
   "mimetype": "text/x-r-source",
   "name": "R",
   "pygments_lexer": "r",
   "version": "3.6.1"
  }
 },
 "nbformat": 4,
 "nbformat_minor": 4
}
