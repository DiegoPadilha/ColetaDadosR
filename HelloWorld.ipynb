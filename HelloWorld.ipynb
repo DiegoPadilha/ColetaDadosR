{
 "cells": [
  {
   "cell_type": "code",
   "execution_count": 2,
   "metadata": {},
   "outputs": [
    {
     "name": "stdout",
     "output_type": "stream",
     "text": [
      "[1] \"Olá, mundo!\"\n"
     ]
    }
   ],
   "source": [
    "hello <- function() {\n",
    "    print(\"Olá, mundo!\")\n",
    "}\n",
    "\n",
    "hello()"
   ]
  },
  {
   "cell_type": "code",
   "execution_count": 3,
   "metadata": {},
   "outputs": [
    {
     "name": "stdout",
     "output_type": "stream",
     "text": [
      "[1] \"Olá, Mundo! O valor de Pi é: 3.14159265358979\"\n",
      "[1] \"Olá, Mundo! O valor de Pi é:3.14159265358979\"\n",
      "[1] \"Olá, Mundo! O valor de Pi é: -> 3.14159265358979\"\n"
     ]
    }
   ],
   "source": [
    "getPi <- function(){\n",
    "    return(pi)\n",
    "}\n",
    "\n",
    "hello <- function(msg){\n",
    "    mensagem = paste(\"Olá, Mundo! O valor de Pi é:\",msg)\n",
    "    print(mensagem)\n",
    "    mensagem = paste(\"Olá, Mundo! O valor de Pi é:\",msg,sep=\"\")\n",
    "    print(mensagem)\n",
    "    mensagem = paste(\"Olá, Mundo! O valor de Pi é:\",msg,sep=\" -> \")\n",
    "    print(mensagem)\n",
    "}\n",
    "\n",
    "msg <- toString(getPi())\n",
    "\n",
    "hello(msg)"
   ]
  },
  {
   "cell_type": "code",
   "execution_count": null,
   "metadata": {},
   "outputs": [],
   "source": []
  }
 ],
 "metadata": {
  "kernelspec": {
   "display_name": "R",
   "language": "R",
   "name": "ir"
  },
  "language_info": {
   "codemirror_mode": "r",
   "file_extension": ".r",
   "mimetype": "text/x-r-source",
   "name": "R",
   "pygments_lexer": "r",
   "version": "3.6.1"
  }
 },
 "nbformat": 4,
 "nbformat_minor": 4
}
