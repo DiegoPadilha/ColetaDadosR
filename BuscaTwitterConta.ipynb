{
 "cells": [
  {
   "cell_type": "code",
   "execution_count": null,
   "metadata": {},
   "outputs": [],
   "source": [
    "#install.packages(\"rtweet\")"
   ]
  },
  {
   "cell_type": "code",
   "execution_count": null,
   "metadata": {},
   "outputs": [],
   "source": [
    "#install.packages(\"twitteR\")"
   ]
  },
  {
   "cell_type": "code",
   "execution_count": 1,
   "metadata": {},
   "outputs": [
    {
     "name": "stderr",
     "output_type": "stream",
     "text": [
      "Warning message:\n",
      "\"package 'rtweet' was built under R version 3.6.3\""
     ]
    }
   ],
   "source": [
    "library(rtweet) #usa a API do Twitter\n",
    "\n",
    "#Define DIR de trabalho\n",
    "setwd(\"c:\\\\Bootcamp\\\\twitterData\")"
   ]
  },
  {
   "cell_type": "code",
   "execution_count": 2,
   "metadata": {},
   "outputs": [],
   "source": [
    "token <- create_token(app = \"Primeiro Exemplo IGTI\", consumer_key = \"\",\n",
    "                     consumer_secret = \"\",\n",
    "                     access_token = \"\",\n",
    "                     access_secret = \"\")\n",
    "\n",
    "#Parâmetro de busca\n",
    "screen_name <- \"Privacidades\"\n",
    "\n"
   ]
  },
  {
   "cell_type": "code",
   "execution_count": 3,
   "metadata": {},
   "outputs": [
    {
     "name": "stderr",
     "output_type": "stream",
     "text": [
      "Registered S3 method overwritten by 'openssl':\n",
      "  method      from\n",
      "  print.bytes Rcpp\n"
     ]
    }
   ],
   "source": [
    "#Buscando\n",
    "tweets <- get_timeline(screen_name, n=1000, include_rts=TRUE, exclude_replies=TRUE)"
   ]
  },
  {
   "cell_type": "code",
   "execution_count": null,
   "metadata": {},
   "outputs": [],
   "source": [
    "print(tweets)"
   ]
  },
  {
   "cell_type": "code",
   "execution_count": 4,
   "metadata": {},
   "outputs": [],
   "source": [
    "#Salvando o vetor de tweets como CSV e apenas o texto em TXT na codificação do português.\n",
    "write_as_csv(tweets, \"TweetByNameRawData.csv\")"
   ]
  },
  {
   "cell_type": "code",
   "execution_count": 5,
   "metadata": {},
   "outputs": [
    {
     "name": "stderr",
     "output_type": "stream",
     "text": [
      "Registered S3 methods overwritten by 'ggplot2':\n",
      "  method         from \n",
      "  [.quosures     rlang\n",
      "  c.quosures     rlang\n",
      "  print.quosures rlang\n"
     ]
    },
    {
     "data": {
      "image/png": "[encoded data removed]",
      "text/plain": [
       "plot without title"
      ]
     },
     "metadata": {},
     "output_type": "display_data"
    }
   ],
   "source": [
    "## plota a série temporal dos tweets\n",
    "ts_plot(tweets, \"3 hours\") +\n",
    "    ggplot2::theme_minimal() +\n",
    "    ggplot2::theme(plot.title = ggplot2::element_text (face = \"bold\")) +\n",
    "    ggplot2::labs (\n",
    "        x = NULL, y = NULL,\n",
    "        title = \"Frequencia de tweets da conta 'dota 2' nos ultimos 9 dias\",\n",
    "        subtitle = \"Contagem de tweets agregados em intervalos de 3 horas\",\n",
    "        caption = \"\\nFonte: Dados coletados do Twitter com o pacote rtweet\"\n",
    "    )"
   ]
  },
  {
   "cell_type": "code",
   "execution_count": null,
   "metadata": {},
   "outputs": [],
   "source": []
  }
 ],
 "metadata": {
  "kernelspec": {
   "display_name": "R",
   "language": "R",
   "name": "ir"
  },
  "language_info": {
   "codemirror_mode": "r",
   "file_extension": ".r",
   "mimetype": "text/x-r-source",
   "name": "R",
   "pygments_lexer": "r",
   "version": "3.6.1"
  }
 },
 "nbformat": 4,
 "nbformat_minor": 4
}
